{
 "cells": [
  {
   "cell_type": "code",
   "execution_count": 1,
   "id": "7e7b77ad-f1db-4df7-a9a7-962db0c97a19",
   "metadata": {},
   "outputs": [],
   "source": [
    "import numpy as np"
   ]
  },
  {
   "cell_type": "markdown",
   "id": "5e75e67b-a72e-4941-86dc-a88062e7a7f2",
   "metadata": {},
   "source": [
    "# DataTypes & Attributes"
   ]
  },
  {
   "cell_type": "code",
   "execution_count": 2,
   "id": "f013cafc-a230-49ad-b21f-af2d2650b8fb",
   "metadata": {},
   "outputs": [
    {
     "data": {
      "text/plain": [
       "array([1, 2, 3])"
      ]
     },
     "execution_count": 2,
     "metadata": {},
     "output_type": "execute_result"
    }
   ],
   "source": [
    "# NumPy's main datatype is ndarray\n",
    "a1 = np.array([1,2,3])\n",
    "a1"
   ]
  },
  {
   "cell_type": "code",
   "execution_count": 3,
   "id": "58d4d8ad-4419-4593-9732-13e7273f4b30",
   "metadata": {},
   "outputs": [
    {
     "data": {
      "text/plain": [
       "numpy.ndarray"
      ]
     },
     "execution_count": 3,
     "metadata": {},
     "output_type": "execute_result"
    }
   ],
   "source": [
    "type(a1)"
   ]
  },
  {
   "cell_type": "code",
   "execution_count": 4,
   "id": "d6e3272e-7488-4723-8d1a-5cccc5227546",
   "metadata": {},
   "outputs": [],
   "source": [
    "a2 = np.array([[1,2,3.3],\n",
    "              [4,5,6.5]])\n",
    "a3 = np.array([[[1,2,3],\n",
    "                [4,5,7],\n",
    "                [7,8,9]],\n",
    "              [[10,11,12],\n",
    "               [13,14,15],\n",
    "               [16,17,18]]])"
   ]
  },
  {
   "cell_type": "code",
   "execution_count": 5,
   "id": "eb250a2c-8bc0-47c3-87ba-024491b326d1",
   "metadata": {},
   "outputs": [
    {
     "data": {
      "text/plain": [
       "array([[1. , 2. , 3.3],\n",
       "       [4. , 5. , 6.5]])"
      ]
     },
     "execution_count": 5,
     "metadata": {},
     "output_type": "execute_result"
    }
   ],
   "source": [
    "a2"
   ]
  },
  {
   "cell_type": "code",
   "execution_count": 6,
   "id": "5e49e104-83f8-48db-9c86-124e4321a105",
   "metadata": {},
   "outputs": [
    {
     "data": {
      "text/plain": [
       "array([[[ 1,  2,  3],\n",
       "        [ 4,  5,  7],\n",
       "        [ 7,  8,  9]],\n",
       "\n",
       "       [[10, 11, 12],\n",
       "        [13, 14, 15],\n",
       "        [16, 17, 18]]])"
      ]
     },
     "execution_count": 6,
     "metadata": {},
     "output_type": "execute_result"
    }
   ],
   "source": [
    "a3"
   ]
  },
  {
   "cell_type": "code",
   "execution_count": 7,
   "id": "62554d49-0e20-4fd5-bd41-4429042006fe",
   "metadata": {},
   "outputs": [
    {
     "data": {
      "text/plain": [
       "(1, 2, 3)"
      ]
     },
     "execution_count": 7,
     "metadata": {},
     "output_type": "execute_result"
    }
   ],
   "source": [
    "a1.ndim, a2.ndim, a3.ndim"
   ]
  },
  {
   "cell_type": "code",
   "execution_count": 8,
   "id": "09b09381-b8d7-4190-a6fd-3bc6b5710d16",
   "metadata": {},
   "outputs": [
    {
     "data": {
      "text/plain": [
       "((3,), (2, 3), (2, 3, 3))"
      ]
     },
     "execution_count": 8,
     "metadata": {},
     "output_type": "execute_result"
    }
   ],
   "source": [
    "a1.shape, a2.shape, a3.shape"
   ]
  },
  {
   "cell_type": "code",
   "execution_count": 9,
   "id": "9dc25eaa-9a58-4ade-8198-9b4b17addccb",
   "metadata": {},
   "outputs": [
    {
     "data": {
      "text/plain": [
       "(dtype('int32'), dtype('float64'), dtype('int32'))"
      ]
     },
     "execution_count": 9,
     "metadata": {},
     "output_type": "execute_result"
    }
   ],
   "source": [
    "a1.dtype, a2.dtype, a3.dtype"
   ]
  },
  {
   "cell_type": "code",
   "execution_count": 10,
   "id": "1fafedeb-4438-4338-9c79-4aea75fde9a3",
   "metadata": {},
   "outputs": [
    {
     "data": {
      "text/plain": [
       "(3, 6, 18)"
      ]
     },
     "execution_count": 10,
     "metadata": {},
     "output_type": "execute_result"
    }
   ],
   "source": [
    "a1.size,a2.size, a3.size"
   ]
  },
  {
   "cell_type": "code",
   "execution_count": 11,
   "id": "09d94634-c578-479e-993c-68b7aeab21d4",
   "metadata": {},
   "outputs": [
    {
     "data": {
      "text/plain": [
       "(numpy.ndarray, numpy.ndarray, numpy.ndarray)"
      ]
     },
     "execution_count": 11,
     "metadata": {},
     "output_type": "execute_result"
    }
   ],
   "source": [
    "type(a1), type(a2), type(a3)"
   ]
  },
  {
   "cell_type": "code",
   "execution_count": null,
   "id": "bcc8a73c-316b-4050-b05f-cca117e18c96",
   "metadata": {},
   "outputs": [],
   "source": []
  },
  {
   "cell_type": "code",
   "execution_count": 12,
   "id": "66be183a-7fc8-405f-b59d-31f720f88fe0",
   "metadata": {},
   "outputs": [
    {
     "data": {
      "text/html": [
       "<div>\n",
       "<style scoped>\n",
       "    .dataframe tbody tr th:only-of-type {\n",
       "        vertical-align: middle;\n",
       "    }\n",
       "\n",
       "    .dataframe tbody tr th {\n",
       "        vertical-align: top;\n",
       "    }\n",
       "\n",
       "    .dataframe thead th {\n",
       "        text-align: right;\n",
       "    }\n",
       "</style>\n",
       "<table border=\"1\" class=\"dataframe\">\n",
       "  <thead>\n",
       "    <tr style=\"text-align: right;\">\n",
       "      <th></th>\n",
       "      <th>0</th>\n",
       "      <th>1</th>\n",
       "      <th>2</th>\n",
       "    </tr>\n",
       "  </thead>\n",
       "  <tbody>\n",
       "    <tr>\n",
       "      <th>0</th>\n",
       "      <td>1.0</td>\n",
       "      <td>2.0</td>\n",
       "      <td>3.3</td>\n",
       "    </tr>\n",
       "    <tr>\n",
       "      <th>1</th>\n",
       "      <td>4.0</td>\n",
       "      <td>5.0</td>\n",
       "      <td>6.5</td>\n",
       "    </tr>\n",
       "  </tbody>\n",
       "</table>\n",
       "</div>"
      ],
      "text/plain": [
       "     0    1    2\n",
       "0  1.0  2.0  3.3\n",
       "1  4.0  5.0  6.5"
      ]
     },
     "execution_count": 12,
     "metadata": {},
     "output_type": "execute_result"
    }
   ],
   "source": [
    "# Create a dataframe from a Numpy array\n",
    "import pandas as pd\n",
    "df = pd.DataFrame(a2)\n",
    "df"
   ]
  },
  {
   "cell_type": "markdown",
   "id": "9e9cdf31-b495-4952-801b-7efb649027f1",
   "metadata": {},
   "source": [
    "# 2. Creating array"
   ]
  },
  {
   "cell_type": "code",
   "execution_count": 13,
   "id": "febd54de-aa56-4b71-a28b-26f49fc763dd",
   "metadata": {},
   "outputs": [
    {
     "data": {
      "text/plain": [
       "array([1, 2, 3])"
      ]
     },
     "execution_count": 13,
     "metadata": {},
     "output_type": "execute_result"
    }
   ],
   "source": [
    "sample_array = np.array([1,2,3])\n",
    "sample_array"
   ]
  },
  {
   "cell_type": "code",
   "execution_count": 14,
   "id": "98efec98-801c-43b9-8807-2c5f547f645e",
   "metadata": {},
   "outputs": [
    {
     "data": {
      "text/plain": [
       "dtype('int32')"
      ]
     },
     "execution_count": 14,
     "metadata": {},
     "output_type": "execute_result"
    }
   ],
   "source": [
    "sample_array.dtype"
   ]
  },
  {
   "cell_type": "code",
   "execution_count": 17,
   "id": "2558f9a8-01c3-4b2e-8bfb-ca2b18261e51",
   "metadata": {},
   "outputs": [
    {
     "data": {
      "text/plain": [
       "array([[1., 1., 1.],\n",
       "       [1., 1., 1.]])"
      ]
     },
     "execution_count": 17,
     "metadata": {},
     "output_type": "execute_result"
    }
   ],
   "source": [
    "ones = np.ones((2,3))\n",
    "ones"
   ]
  },
  {
   "cell_type": "code",
   "execution_count": 18,
   "id": "7cdb5aa1-f64c-4dc7-8876-80a51bbc454d",
   "metadata": {},
   "outputs": [
    {
     "data": {
      "text/plain": [
       "dtype('float64')"
      ]
     },
     "execution_count": 18,
     "metadata": {},
     "output_type": "execute_result"
    }
   ],
   "source": [
    "ones.dtype"
   ]
  },
  {
   "cell_type": "code",
   "execution_count": 20,
   "id": "25cb7a2a-f4b4-485f-813c-7c23af134271",
   "metadata": {},
   "outputs": [
    {
     "data": {
      "text/plain": [
       "array([[0., 0., 0.],\n",
       "       [0., 0., 0.]])"
      ]
     },
     "execution_count": 20,
     "metadata": {},
     "output_type": "execute_result"
    }
   ],
   "source": [
    "zeroes = np.zeros((2,3))\n",
    "zeroes"
   ]
  },
  {
   "cell_type": "code",
   "execution_count": 23,
   "id": "437e1350-7dd0-4a9b-89be-90a347b1a31b",
   "metadata": {},
   "outputs": [
    {
     "data": {
      "text/plain": [
       "array([0, 2, 4, 6, 8])"
      ]
     },
     "execution_count": 23,
     "metadata": {},
     "output_type": "execute_result"
    }
   ],
   "source": [
    "range_array = np.arange(0,10,2)\n",
    "range_array"
   ]
  },
  {
   "cell_type": "code",
   "execution_count": 24,
   "id": "72d2f46c-dddf-4441-959f-3d1cb97eea8a",
   "metadata": {},
   "outputs": [
    {
     "data": {
      "text/plain": [
       "array([[6, 9, 0, 1, 5],\n",
       "       [4, 8, 1, 6, 7],\n",
       "       [9, 7, 1, 2, 4]])"
      ]
     },
     "execution_count": 24,
     "metadata": {},
     "output_type": "execute_result"
    }
   ],
   "source": [
    "random_array = np.random.randint(0, 10, size=(3, 5))\n",
    "random_array"
   ]
  },
  {
   "cell_type": "code",
   "execution_count": 25,
   "id": "ceaa2faa-d915-4f5b-95cf-e591788fbbf6",
   "metadata": {},
   "outputs": [
    {
     "data": {
      "text/plain": [
       "array([[6.07427651e-02, 3.86307637e-01, 3.51921108e-01],\n",
       "       [1.58692716e-01, 2.24742153e-01, 2.13539623e-01],\n",
       "       [6.73022606e-01, 6.07611909e-01, 3.54661862e-01],\n",
       "       [2.64440810e-02, 5.44201633e-01, 4.42898833e-01],\n",
       "       [6.08121270e-01, 1.87863147e-04, 7.56196701e-01]])"
      ]
     },
     "execution_count": 25,
     "metadata": {},
     "output_type": "execute_result"
    }
   ],
   "source": [
    "random_array2 = np.random.random((5,3))\n",
    "random_array2"
   ]
  },
  {
   "cell_type": "code",
   "execution_count": 27,
   "id": "d0d1cb6d-5ef8-49d8-905f-41735a9c64e3",
   "metadata": {},
   "outputs": [
    {
     "data": {
      "text/plain": [
       "array([[0.40315158, 0.16813698, 0.39646759],\n",
       "       [0.69039358, 0.54031616, 0.96782276],\n",
       "       [0.40035449, 0.14838181, 0.63071564],\n",
       "       [0.97998179, 0.46690833, 0.81263292],\n",
       "       [0.1735702 , 0.72885799, 0.15625173]])"
      ]
     },
     "execution_count": 27,
     "metadata": {},
     "output_type": "execute_result"
    }
   ],
   "source": [
    "random_array3 = np.random.rand(5,3)\n",
    "random_array3"
   ]
  },
  {
   "cell_type": "code",
   "execution_count": 33,
   "id": "47422dae-4afc-43f0-8ae6-669434be016d",
   "metadata": {},
   "outputs": [
    {
     "data": {
      "text/plain": [
       "array([[5, 0, 3],\n",
       "       [3, 7, 9],\n",
       "       [3, 5, 2],\n",
       "       [4, 7, 6],\n",
       "       [8, 8, 1]])"
      ]
     },
     "execution_count": 33,
     "metadata": {},
     "output_type": "execute_result"
    }
   ],
   "source": [
    "# pseudo-random numbers\n",
    "np.random.seed(0)\n",
    "random_array4 = np.random.randint(10, size = (5, 3))\n",
    "random_array4"
   ]
  },
  {
   "cell_type": "markdown",
   "id": "239660ef-7427-486a-ac59-e6f6168a2c12",
   "metadata": {},
   "source": [
    "## 3. Viewing arrays and matrices"
   ]
  },
  {
   "cell_type": "code",
   "execution_count": 34,
   "id": "109e541c-4a57-47fa-a128-c5162d00c6a9",
   "metadata": {},
   "outputs": [
    {
     "data": {
      "text/plain": [
       "array([0, 1, 2, 3, 4, 5, 6, 7, 8, 9])"
      ]
     },
     "execution_count": 34,
     "metadata": {},
     "output_type": "execute_result"
    }
   ],
   "source": [
    "np.unique(random_array4)"
   ]
  },
  {
   "cell_type": "code",
   "execution_count": 35,
   "id": "51df6094-25f5-4146-a68c-b52fc428d8bf",
   "metadata": {},
   "outputs": [
    {
     "data": {
      "text/plain": [
       "array([1, 2, 3])"
      ]
     },
     "execution_count": 35,
     "metadata": {},
     "output_type": "execute_result"
    }
   ],
   "source": [
    "a1"
   ]
  },
  {
   "cell_type": "code",
   "execution_count": 36,
   "id": "3887f0ec-fbc2-4d47-9cf9-50c22a2bc339",
   "metadata": {},
   "outputs": [
    {
     "data": {
      "text/plain": [
       "array([[1. , 2. , 3.3],\n",
       "       [4. , 5. , 6.5]])"
      ]
     },
     "execution_count": 36,
     "metadata": {},
     "output_type": "execute_result"
    }
   ],
   "source": [
    "a2"
   ]
  },
  {
   "cell_type": "code",
   "execution_count": 37,
   "id": "b4732103-28f6-4588-8bf0-a62801f3b285",
   "metadata": {},
   "outputs": [
    {
     "data": {
      "text/plain": [
       "array([[[ 1,  2,  3],\n",
       "        [ 4,  5,  7],\n",
       "        [ 7,  8,  9]],\n",
       "\n",
       "       [[10, 11, 12],\n",
       "        [13, 14, 15],\n",
       "        [16, 17, 18]]])"
      ]
     },
     "execution_count": 37,
     "metadata": {},
     "output_type": "execute_result"
    }
   ],
   "source": [
    "a3"
   ]
  },
  {
   "cell_type": "code",
   "execution_count": 38,
   "id": "4c0280e4-6e1a-4c79-8049-04511b2e2a59",
   "metadata": {},
   "outputs": [
    {
     "data": {
      "text/plain": [
       "1"
      ]
     },
     "execution_count": 38,
     "metadata": {},
     "output_type": "execute_result"
    }
   ],
   "source": [
    "a1[0]"
   ]
  },
  {
   "cell_type": "code",
   "execution_count": 40,
   "id": "de827ed9-11c9-42e4-805c-24c39bf79ca5",
   "metadata": {},
   "outputs": [
    {
     "data": {
      "text/plain": [
       "(2, 3)"
      ]
     },
     "execution_count": 40,
     "metadata": {},
     "output_type": "execute_result"
    }
   ],
   "source": [
    "a2.shape"
   ]
  },
  {
   "cell_type": "code",
   "execution_count": 39,
   "id": "7017af67-5a34-462a-b7f4-eb7f758f078c",
   "metadata": {},
   "outputs": [
    {
     "data": {
      "text/plain": [
       "array([1. , 2. , 3.3])"
      ]
     },
     "execution_count": 39,
     "metadata": {},
     "output_type": "execute_result"
    }
   ],
   "source": [
    "a2[0]"
   ]
  },
  {
   "cell_type": "code",
   "execution_count": 41,
   "id": "73fba735-6079-42bf-9fd5-eee476ea05fd",
   "metadata": {},
   "outputs": [
    {
     "data": {
      "text/plain": [
       "(2, 3, 3)"
      ]
     },
     "execution_count": 41,
     "metadata": {},
     "output_type": "execute_result"
    }
   ],
   "source": [
    "a3.shape"
   ]
  },
  {
   "cell_type": "code",
   "execution_count": 42,
   "id": "55e928e3-0706-4232-ab23-e05db4a50983",
   "metadata": {},
   "outputs": [
    {
     "data": {
      "text/plain": [
       "array([[1, 2, 3],\n",
       "       [4, 5, 7],\n",
       "       [7, 8, 9]])"
      ]
     },
     "execution_count": 42,
     "metadata": {},
     "output_type": "execute_result"
    }
   ],
   "source": [
    "a3[0]"
   ]
  },
  {
   "cell_type": "code",
   "execution_count": 43,
   "id": "e8d97677-da0e-40a6-9a74-89124bc495c3",
   "metadata": {},
   "outputs": [
    {
     "data": {
      "text/plain": [
       "array([[1. , 2. , 3.3],\n",
       "       [4. , 5. , 6.5]])"
      ]
     },
     "execution_count": 43,
     "metadata": {},
     "output_type": "execute_result"
    }
   ],
   "source": [
    "a2"
   ]
  },
  {
   "cell_type": "code",
   "execution_count": 44,
   "id": "b5ffe0d0-9372-46b7-9d0c-94b49c2ed012",
   "metadata": {},
   "outputs": [
    {
     "data": {
      "text/plain": [
       "array([4. , 5. , 6.5])"
      ]
     },
     "execution_count": 44,
     "metadata": {},
     "output_type": "execute_result"
    }
   ],
   "source": [
    "a2[1]"
   ]
  },
  {
   "cell_type": "code",
   "execution_count": 47,
   "id": "7cc29247-0602-4bd3-baf4-14a14355a5c3",
   "metadata": {},
   "outputs": [
    {
     "data": {
      "text/plain": [
       "(2, 3, 3)"
      ]
     },
     "execution_count": 47,
     "metadata": {},
     "output_type": "execute_result"
    }
   ],
   "source": [
    "a3.shape"
   ]
  },
  {
   "cell_type": "code",
   "execution_count": 45,
   "id": "8b697d5a-b594-40e4-91f7-fce8d38b5649",
   "metadata": {},
   "outputs": [
    {
     "data": {
      "text/plain": [
       "array([[[ 1,  2,  3],\n",
       "        [ 4,  5,  7],\n",
       "        [ 7,  8,  9]],\n",
       "\n",
       "       [[10, 11, 12],\n",
       "        [13, 14, 15],\n",
       "        [16, 17, 18]]])"
      ]
     },
     "execution_count": 45,
     "metadata": {},
     "output_type": "execute_result"
    }
   ],
   "source": [
    "a3"
   ]
  },
  {
   "cell_type": "code",
   "execution_count": 46,
   "id": "16b595a4-4185-4e26-b5de-98ee686404df",
   "metadata": {},
   "outputs": [
    {
     "data": {
      "text/plain": [
       "array([[[ 1,  2],\n",
       "        [ 4,  5]],\n",
       "\n",
       "       [[10, 11],\n",
       "        [13, 14]]])"
      ]
     },
     "execution_count": 46,
     "metadata": {},
     "output_type": "execute_result"
    }
   ],
   "source": [
    "a3[:2, :2, :2]"
   ]
  },
  {
   "cell_type": "code",
   "execution_count": 49,
   "id": "58bed32b-64dc-4110-801b-40faf6cedbd3",
   "metadata": {},
   "outputs": [
    {
     "data": {
      "text/plain": [
       "array([[[9, 9, 0],\n",
       "        [4, 7, 3],\n",
       "        [2, 7, 2],\n",
       "        [0, 0, 4],\n",
       "        [5, 5, 6]],\n",
       "\n",
       "       [[8, 4, 1],\n",
       "        [4, 9, 8],\n",
       "        [1, 1, 7],\n",
       "        [9, 9, 3],\n",
       "        [6, 7, 2]],\n",
       "\n",
       "       [[0, 3, 5],\n",
       "        [9, 4, 4],\n",
       "        [6, 4, 4],\n",
       "        [3, 4, 4],\n",
       "        [8, 4, 3]],\n",
       "\n",
       "       [[7, 5, 5],\n",
       "        [0, 1, 5],\n",
       "        [9, 3, 0],\n",
       "        [5, 0, 1],\n",
       "        [2, 4, 2]],\n",
       "\n",
       "       [[0, 3, 2],\n",
       "        [0, 7, 5],\n",
       "        [9, 0, 2],\n",
       "        [7, 2, 9],\n",
       "        [2, 3, 3]]])"
      ]
     },
     "execution_count": 49,
     "metadata": {},
     "output_type": "execute_result"
    }
   ],
   "source": [
    "test_array = np.random.randint(10, size = (5,5,3))\n",
    "test_array"
   ]
  },
  {
   "cell_type": "code",
   "execution_count": 51,
   "id": "cd875741-8faa-49c2-903a-f5801119a03d",
   "metadata": {},
   "outputs": [
    {
     "data": {
      "text/plain": [
       "array([9, 4, 4])"
      ]
     },
     "execution_count": 51,
     "metadata": {},
     "output_type": "execute_result"
    }
   ],
   "source": [
    "test_array[2,1]"
   ]
  },
  {
   "cell_type": "code",
   "execution_count": 56,
   "id": "1898aea7-af9d-40b8-a53a-a65a776fbd6d",
   "metadata": {},
   "outputs": [
    {
     "data": {
      "text/plain": [
       "array([[[9, 9],\n",
       "        [4, 7]],\n",
       "\n",
       "       [[8, 4],\n",
       "        [4, 9]],\n",
       "\n",
       "       [[0, 3],\n",
       "        [9, 4]]])"
      ]
     },
     "execution_count": 56,
     "metadata": {},
     "output_type": "execute_result"
    }
   ],
   "source": [
    "test_array[:3,:2,:2]"
   ]
  },
  {
   "cell_type": "code",
   "execution_count": 59,
   "id": "899b06b7-5188-4ab8-a255-21c2890edb0d",
   "metadata": {},
   "outputs": [
    {
     "data": {
      "text/plain": [
       "array([[[[9, 2, 0, 8, 2],\n",
       "         [7, 8, 4, 4, 1],\n",
       "         [7, 6, 9, 4, 1],\n",
       "         [5, 9, 7, 1, 3]],\n",
       "\n",
       "        [[5, 7, 3, 6, 6],\n",
       "         [7, 9, 1, 9, 6],\n",
       "         [0, 3, 8, 4, 1],\n",
       "         [4, 5, 0, 3, 1]],\n",
       "\n",
       "        [[4, 4, 4, 0, 0],\n",
       "         [8, 4, 6, 9, 3],\n",
       "         [3, 2, 1, 2, 1],\n",
       "         [3, 4, 1, 1, 0]]],\n",
       "\n",
       "\n",
       "       [[[7, 8, 4, 3, 5],\n",
       "         [6, 3, 2, 9, 8],\n",
       "         [1, 4, 0, 8, 3],\n",
       "         [9, 5, 5, 1, 7]],\n",
       "\n",
       "        [[8, 6, 4, 7, 3],\n",
       "         [5, 3, 6, 4, 7],\n",
       "         [3, 0, 5, 9, 3],\n",
       "         [7, 5, 5, 8, 0]],\n",
       "\n",
       "        [[8, 3, 6, 9, 3],\n",
       "         [2, 7, 0, 3, 0],\n",
       "         [3, 6, 1, 9, 2],\n",
       "         [9, 4, 9, 1, 3]]]])"
      ]
     },
     "execution_count": 59,
     "metadata": {},
     "output_type": "execute_result"
    }
   ],
   "source": [
    "a4 = np.random.randint(10, size = (2,3,4,5))\n",
    "a4"
   ]
  },
  {
   "cell_type": "code",
   "execution_count": 60,
   "id": "2f933bc2-7958-470a-a667-0fe052aed4c9",
   "metadata": {},
   "outputs": [
    {
     "data": {
      "text/plain": [
       "array([[[[2, 4],\n",
       "         [9, 7]],\n",
       "\n",
       "        [[4, 9],\n",
       "         [4, 1]]],\n",
       "\n",
       "\n",
       "       [[[2, 7],\n",
       "         [2, 3]],\n",
       "\n",
       "        [[9, 7],\n",
       "         [6, 6]]]])"
      ]
     },
     "execution_count": 60,
     "metadata": {},
     "output_type": "execute_result"
    }
   ],
   "source": [
    "test_array1 = np.random.randint(10, size=(2,2,2,2))\n",
    "test_array1"
   ]
  },
  {
   "cell_type": "code",
   "execution_count": 61,
   "id": "cfbd32f2-f1f5-483d-a4a3-55a4ee0df798",
   "metadata": {},
   "outputs": [
    {
     "data": {
      "text/plain": [
       "array([[[[2, 3],\n",
       "         [6, 0]],\n",
       "\n",
       "        [[8, 0],\n",
       "         [7, 6]]],\n",
       "\n",
       "\n",
       "       [[[5, 9],\n",
       "         [6, 5]],\n",
       "\n",
       "        [[2, 7],\n",
       "         [1, 9]]],\n",
       "\n",
       "\n",
       "       [[[2, 2],\n",
       "         [5, 6]],\n",
       "\n",
       "        [[4, 2],\n",
       "         [2, 1]]]])"
      ]
     },
     "execution_count": 61,
     "metadata": {},
     "output_type": "execute_result"
    }
   ],
   "source": [
    "test_array2 = np.random.randint(10, size = (3,2,2,2))\n",
    "test_array2"
   ]
  },
  {
   "cell_type": "code",
   "execution_count": 62,
   "id": "c1de3982-3005-4125-b8fd-ac609b8d5ea2",
   "metadata": {},
   "outputs": [
    {
     "data": {
      "text/plain": [
       "array([[[[9, 2, 0, 8, 2],\n",
       "         [7, 8, 4, 4, 1],\n",
       "         [7, 6, 9, 4, 1],\n",
       "         [5, 9, 7, 1, 3]],\n",
       "\n",
       "        [[5, 7, 3, 6, 6],\n",
       "         [7, 9, 1, 9, 6],\n",
       "         [0, 3, 8, 4, 1],\n",
       "         [4, 5, 0, 3, 1]],\n",
       "\n",
       "        [[4, 4, 4, 0, 0],\n",
       "         [8, 4, 6, 9, 3],\n",
       "         [3, 2, 1, 2, 1],\n",
       "         [3, 4, 1, 1, 0]]],\n",
       "\n",
       "\n",
       "       [[[7, 8, 4, 3, 5],\n",
       "         [6, 3, 2, 9, 8],\n",
       "         [1, 4, 0, 8, 3],\n",
       "         [9, 5, 5, 1, 7]],\n",
       "\n",
       "        [[8, 6, 4, 7, 3],\n",
       "         [5, 3, 6, 4, 7],\n",
       "         [3, 0, 5, 9, 3],\n",
       "         [7, 5, 5, 8, 0]],\n",
       "\n",
       "        [[8, 3, 6, 9, 3],\n",
       "         [2, 7, 0, 3, 0],\n",
       "         [3, 6, 1, 9, 2],\n",
       "         [9, 4, 9, 1, 3]]]])"
      ]
     },
     "execution_count": 62,
     "metadata": {},
     "output_type": "execute_result"
    }
   ],
   "source": [
    "# from a4 get 4 number of the inner most array\n",
    "a4"
   ]
  },
  {
   "cell_type": "code",
   "execution_count": 67,
   "id": "07160536-ecac-4481-9b27-8725d3a464ce",
   "metadata": {},
   "outputs": [
    {
     "data": {
      "text/plain": [
       "array([[[[9, 2, 0, 8],\n",
       "         [7, 8, 4, 4],\n",
       "         [7, 6, 9, 4],\n",
       "         [5, 9, 7, 1]],\n",
       "\n",
       "        [[5, 7, 3, 6],\n",
       "         [7, 9, 1, 9],\n",
       "         [0, 3, 8, 4],\n",
       "         [4, 5, 0, 3]]],\n",
       "\n",
       "\n",
       "       [[[7, 8, 4, 3],\n",
       "         [6, 3, 2, 9],\n",
       "         [1, 4, 0, 8],\n",
       "         [9, 5, 5, 1]],\n",
       "\n",
       "        [[8, 6, 4, 7],\n",
       "         [5, 3, 6, 4],\n",
       "         [3, 0, 5, 9],\n",
       "         [7, 5, 5, 8]]]])"
      ]
     },
     "execution_count": 67,
     "metadata": {},
     "output_type": "execute_result"
    }
   ],
   "source": [
    "a4[:,:2,:,:4]"
   ]
  },
  {
   "cell_type": "markdown",
   "id": "8660db58-d1f5-4a1a-b10f-7e2f89d5d465",
   "metadata": {},
   "source": [
    "## 4. Manipulating & Comparing array"
   ]
  },
  {
   "cell_type": "markdown",
   "id": "6d05dfb6-c7d3-499d-a114-5f4d2666e96e",
   "metadata": {},
   "source": [
    "### Arithmetic"
   ]
  },
  {
   "cell_type": "code",
   "execution_count": 69,
   "id": "e261b175-52be-4b6c-bcb3-774983cac345",
   "metadata": {},
   "outputs": [
    {
     "data": {
      "text/plain": [
       "array([[1., 1., 1.],\n",
       "       [1., 1., 1.]])"
      ]
     },
     "execution_count": 69,
     "metadata": {},
     "output_type": "execute_result"
    }
   ],
   "source": [
    "a1\n",
    "ones"
   ]
  },
  {
   "cell_type": "code",
   "execution_count": 70,
   "id": "2a0bac82-9252-4a8c-84e6-fa7a720d161b",
   "metadata": {},
   "outputs": [
    {
     "data": {
      "text/plain": [
       "array([1, 2, 3])"
      ]
     },
     "execution_count": 70,
     "metadata": {},
     "output_type": "execute_result"
    }
   ],
   "source": [
    "a1"
   ]
  },
  {
   "cell_type": "code",
   "execution_count": 71,
   "id": "a1fb3513-6ed0-4afe-b550-983e6f82a672",
   "metadata": {},
   "outputs": [
    {
     "data": {
      "text/plain": [
       "array([[1., 1., 1.],\n",
       "       [1., 1., 1.]])"
      ]
     },
     "execution_count": 71,
     "metadata": {},
     "output_type": "execute_result"
    }
   ],
   "source": [
    "ones"
   ]
  },
  {
   "cell_type": "code",
   "execution_count": 72,
   "id": "2e8af191-2c57-40b1-b852-acee3d96992b",
   "metadata": {},
   "outputs": [
    {
     "data": {
      "text/plain": [
       "array([[2., 3., 4.],\n",
       "       [2., 3., 4.]])"
      ]
     },
     "execution_count": 72,
     "metadata": {},
     "output_type": "execute_result"
    }
   ],
   "source": [
    "a1 + ones"
   ]
  },
  {
   "cell_type": "code",
   "execution_count": 73,
   "id": "d0c43d58-33de-4346-8ee3-806ef7ca5bec",
   "metadata": {},
   "outputs": [],
   "source": [
    "ones = np.ones(3)"
   ]
  },
  {
   "cell_type": "code",
   "execution_count": 74,
   "id": "bcd316ae-b045-44da-9042-830f518f7d62",
   "metadata": {},
   "outputs": [
    {
     "data": {
      "text/plain": [
       "array([2., 3., 4.])"
      ]
     },
     "execution_count": 74,
     "metadata": {},
     "output_type": "execute_result"
    }
   ],
   "source": [
    "a1 + ones"
   ]
  },
  {
   "cell_type": "code",
   "execution_count": 75,
   "id": "0d5977f5-e11c-46d8-a993-9c329e584a9b",
   "metadata": {},
   "outputs": [
    {
     "data": {
      "text/plain": [
       "array([0., 1., 2.])"
      ]
     },
     "execution_count": 75,
     "metadata": {},
     "output_type": "execute_result"
    }
   ],
   "source": [
    "a1 - ones"
   ]
  },
  {
   "cell_type": "code",
   "execution_count": 76,
   "id": "43c6c57b-12f0-401d-9432-cbf7cbf405b6",
   "metadata": {},
   "outputs": [
    {
     "data": {
      "text/plain": [
       "array([1., 2., 3.])"
      ]
     },
     "execution_count": 76,
     "metadata": {},
     "output_type": "execute_result"
    }
   ],
   "source": [
    "a1 * ones"
   ]
  },
  {
   "cell_type": "code",
   "execution_count": 77,
   "id": "061a3486-c105-47df-a49f-600a8d305299",
   "metadata": {},
   "outputs": [
    {
     "data": {
      "text/plain": [
       "array([[1. , 2. , 3.3],\n",
       "       [4. , 5. , 6.5]])"
      ]
     },
     "execution_count": 77,
     "metadata": {},
     "output_type": "execute_result"
    }
   ],
   "source": [
    "a2"
   ]
  },
  {
   "cell_type": "code",
   "execution_count": 78,
   "id": "5b55577e-772e-43f0-b680-f904851498dd",
   "metadata": {},
   "outputs": [
    {
     "data": {
      "text/plain": [
       "array([[ 1. ,  4. ,  9.9],\n",
       "       [ 4. , 10. , 19.5]])"
      ]
     },
     "execution_count": 78,
     "metadata": {},
     "output_type": "execute_result"
    }
   ],
   "source": [
    "a1 *a2"
   ]
  },
  {
   "cell_type": "code",
   "execution_count": 80,
   "id": "064e9e6c-6340-4d1e-a74e-268acf623459",
   "metadata": {},
   "outputs": [],
   "source": [
    "# all arithmetic can be performed"
   ]
  },
  {
   "cell_type": "code",
   "execution_count": 81,
   "id": "2d330a19-a871-431a-9fdc-6f514d2421b7",
   "metadata": {},
   "outputs": [
    {
     "ename": "ValueError",
     "evalue": "operands could not be broadcast together with shapes (2,3) (2,3,3) ",
     "output_type": "error",
     "traceback": [
      "\u001b[1;31m---------------------------------------------------------------------------\u001b[0m",
      "\u001b[1;31mValueError\u001b[0m                                Traceback (most recent call last)",
      "Cell \u001b[1;32mIn[81], line 1\u001b[0m\n\u001b[1;32m----> 1\u001b[0m a2\u001b[38;5;241m*\u001b[39ma3\n",
      "\u001b[1;31mValueError\u001b[0m: operands could not be broadcast together with shapes (2,3) (2,3,3) "
     ]
    }
   ],
   "source": [
    "a2*a3 # intentionally kept this error(broadcasting)"
   ]
  },
  {
   "cell_type": "code",
   "execution_count": 82,
   "id": "f9d990a7-c96b-4668-88ce-b12a894c97cf",
   "metadata": {},
   "outputs": [
    {
     "data": {
      "text/plain": [
       "array([[[ 1,  2,  3],\n",
       "        [ 4,  5,  7],\n",
       "        [ 7,  8,  9]],\n",
       "\n",
       "       [[10, 11, 12],\n",
       "        [13, 14, 15],\n",
       "        [16, 17, 18]]])"
      ]
     },
     "execution_count": 82,
     "metadata": {},
     "output_type": "execute_result"
    }
   ],
   "source": [
    "a3"
   ]
  },
  {
   "cell_type": "code",
   "execution_count": 83,
   "id": "a3e61a0d-f7bc-43f0-9e57-8c5a5d18a3ed",
   "metadata": {},
   "outputs": [
    {
     "data": {
      "text/plain": [
       "array([[1. , 2. , 3.3],\n",
       "       [4. , 5. , 6.5]])"
      ]
     },
     "execution_count": 83,
     "metadata": {},
     "output_type": "execute_result"
    }
   ],
   "source": [
    "a2"
   ]
  },
  {
   "cell_type": "code",
   "execution_count": 94,
   "id": "42af50a4-8020-4550-a533-244e95aa1e38",
   "metadata": {},
   "outputs": [
    {
     "data": {
      "text/plain": [
       "array([[1. , 2. ],\n",
       "       [3.3, 4. ],\n",
       "       [5. , 6.5]])"
      ]
     },
     "execution_count": 94,
     "metadata": {},
     "output_type": "execute_result"
    }
   ],
   "source": [
    "a2.reshape((3,2))"
   ]
  },
  {
   "cell_type": "code",
   "execution_count": 92,
   "id": "a62d3c00-655f-4eec-92f5-e571945030b7",
   "metadata": {},
   "outputs": [
    {
     "data": {
      "text/plain": [
       "array([[1., 1., 1.],\n",
       "       [4., 2., 2.]])"
      ]
     },
     "execution_count": 92,
     "metadata": {},
     "output_type": "execute_result"
    }
   ],
   "source": [
    "# floor division\n",
    "a2 // a1"
   ]
  },
  {
   "cell_type": "code",
   "execution_count": 93,
   "id": "2b5d07be-4f30-47b6-bce3-3fe454c01ba2",
   "metadata": {},
   "outputs": [
    {
     "data": {
      "text/plain": [
       "array([[ 1.  ,  4.  , 10.89],\n",
       "       [16.  , 25.  , 42.25]])"
      ]
     },
     "execution_count": 93,
     "metadata": {},
     "output_type": "execute_result"
    }
   ],
   "source": [
    "np.square(a2) # numpy has function like add(a,b) etc"
   ]
  },
  {
   "cell_type": "code",
   "execution_count": 98,
   "id": "bc8e1497-0db7-439e-9e39-296cf5b10cf8",
   "metadata": {},
   "outputs": [],
   "source": [
    "x1 = np.arange(9.0).reshape((3, 3))\n",
    "x2 = np.arange(3.0)"
   ]
  },
  {
   "cell_type": "code",
   "execution_count": 99,
   "id": "b376c5ee-7a2d-45a4-a525-9ffd66aa6efe",
   "metadata": {},
   "outputs": [
    {
     "data": {
      "text/plain": [
       "array([0., 1., 2.])"
      ]
     },
     "execution_count": 99,
     "metadata": {},
     "output_type": "execute_result"
    }
   ],
   "source": [
    "x2"
   ]
  },
  {
   "cell_type": "code",
   "execution_count": 100,
   "id": "f05a48d4-a40a-451f-a632-8d41c0847ab1",
   "metadata": {},
   "outputs": [
    {
     "data": {
      "text/plain": [
       "array([[0., 1., 2.],\n",
       "       [3., 4., 5.],\n",
       "       [6., 7., 8.]])"
      ]
     },
     "execution_count": 100,
     "metadata": {},
     "output_type": "execute_result"
    }
   ],
   "source": [
    "x1"
   ]
  },
  {
   "cell_type": "code",
   "execution_count": 101,
   "id": "7f043b3c-63eb-4120-9538-bf91df617b4b",
   "metadata": {},
   "outputs": [
    {
     "data": {
      "text/plain": [
       "array([[[ 1,  2,  3],\n",
       "        [ 4,  5,  7],\n",
       "        [ 7,  8,  9]],\n",
       "\n",
       "       [[10, 11, 12],\n",
       "        [13, 14, 15],\n",
       "        [16, 17, 18]]])"
      ]
     },
     "execution_count": 101,
     "metadata": {},
     "output_type": "execute_result"
    }
   ],
   "source": [
    "a3"
   ]
  },
  {
   "cell_type": "code",
   "execution_count": 102,
   "id": "03a97f71-70c8-4a8b-bed7-4df80d84ddb2",
   "metadata": {},
   "outputs": [
    {
     "data": {
      "text/plain": [
       "array([[1. , 2. , 3.3],\n",
       "       [4. , 5. , 6.5]])"
      ]
     },
     "execution_count": 102,
     "metadata": {},
     "output_type": "execute_result"
    }
   ],
   "source": [
    "a2"
   ]
  },
  {
   "cell_type": "code",
   "execution_count": 105,
   "id": "02db3ea4-51e4-4062-9f97-b7901e31adb7",
   "metadata": {},
   "outputs": [
    {
     "data": {
      "text/plain": [
       "array([0, 1, 2, 3, 4, 5])"
      ]
     },
     "execution_count": 105,
     "metadata": {},
     "output_type": "execute_result"
    }
   ],
   "source": [
    "a=np.arange(6)\n",
    "a"
   ]
  },
  {
   "cell_type": "code",
   "execution_count": null,
   "id": "c45b791c-a3b1-4244-ba0e-750436329b62",
   "metadata": {},
   "outputs": [],
   "source": []
  }
 ],
 "metadata": {
  "kernelspec": {
   "display_name": "Python 3 (ipykernel)",
   "language": "python",
   "name": "python3"
  },
  "language_info": {
   "codemirror_mode": {
    "name": "ipython",
    "version": 3
   },
   "file_extension": ".py",
   "mimetype": "text/x-python",
   "name": "python",
   "nbconvert_exporter": "python",
   "pygments_lexer": "ipython3",
   "version": "3.12.2"
  }
 },
 "nbformat": 4,
 "nbformat_minor": 5
}
